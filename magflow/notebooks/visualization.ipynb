{
 "cells": [
  {
   "cell_type": "markdown",
   "id": "021efa5e",
   "metadata": {},
   "source": [
    "# Notebook\n",
    "\n",
    "Analysis of velocity fields obtained from flow MRI in ten patients with TAVI implants."
   ]
  },
  {
   "cell_type": "markdown",
   "id": "4abf8e22",
   "metadata": {},
   "source": [
    "## Setup and imports\n",
    "\n",
    "Configure and import all necessary libraries for model visualization."
   ]
  },
  {
   "cell_type": "code",
   "execution_count": 1,
   "id": "05a19451",
   "metadata": {},
   "outputs": [],
   "source": [
    "# Standard library imports\n",
    "import os\n",
    "from pathlib import Path\n",
    "\n",
    "# Third-party imports\n",
    "import pyvista as pv\n",
    "from rich import print\n",
    "\n",
    "# Local imports\n",
    "import magflow.utils.visualization as visualization\n",
    "\n",
    "# For notebook integration\n",
    "pv.set_jupyter_backend(\"server\")\n",
    "%matplotlib inline"
   ]
  },
  {
   "cell_type": "markdown",
   "id": "c5beab39",
   "metadata": {},
   "source": [
    "## Dataset Loading\n",
    "\n",
    "Se cargan los datos en formato `vtk` de los campos de velocidades del paciente. Por defecto, se carga el instante de tiempo 85 dado que coincide con el instante de sístole y, por tanto, presenta mayor contraste."
   ]
  },
  {
   "cell_type": "code",
   "execution_count": 2,
   "id": "4079079d",
   "metadata": {},
   "outputs": [
    {
     "data": {
      "text/html": [
       "<pre style=\"white-space:pre;overflow-x:auto;line-height:normal;font-family:Menlo,'DejaVu Sans Mono',consolas,'Courier New',monospace\">Available timesteps: <span style=\"font-weight: bold\">[</span><span style=\"color: #008080; text-decoration-color: #008080; font-weight: bold\">0</span>, <span style=\"color: #008080; text-decoration-color: #008080; font-weight: bold\">28</span>, <span style=\"color: #008080; text-decoration-color: #008080; font-weight: bold\">57</span>, <span style=\"color: #008080; text-decoration-color: #008080; font-weight: bold\">85</span>, <span style=\"color: #008080; text-decoration-color: #008080; font-weight: bold\">113</span>, <span style=\"color: #008080; text-decoration-color: #008080; font-weight: bold\">141</span>, <span style=\"color: #008080; text-decoration-color: #008080; font-weight: bold\">170</span>, <span style=\"color: #008080; text-decoration-color: #008080; font-weight: bold\">198</span>, <span style=\"color: #008080; text-decoration-color: #008080; font-weight: bold\">226</span>, <span style=\"color: #008080; text-decoration-color: #008080; font-weight: bold\">254</span>, <span style=\"color: #008080; text-decoration-color: #008080; font-weight: bold\">283</span>, <span style=\"color: #008080; text-decoration-color: #008080; font-weight: bold\">311</span>, <span style=\"color: #008080; text-decoration-color: #008080; font-weight: bold\">339</span>, <span style=\"color: #008080; text-decoration-color: #008080; font-weight: bold\">368</span>, <span style=\"color: #008080; text-decoration-color: #008080; font-weight: bold\">396</span>, <span style=\"color: #008080; text-decoration-color: #008080; font-weight: bold\">424</span>, <span style=\"color: #008080; text-decoration-color: #008080; font-weight: bold\">452</span>, <span style=\"color: #008080; text-decoration-color: #008080; font-weight: bold\">481</span>, <span style=\"color: #008080; text-decoration-color: #008080; font-weight: bold\">509</span>, \n",
       "<span style=\"color: #008080; text-decoration-color: #008080; font-weight: bold\">537</span>, <span style=\"color: #008080; text-decoration-color: #008080; font-weight: bold\">566</span>, <span style=\"color: #008080; text-decoration-color: #008080; font-weight: bold\">594</span>, <span style=\"color: #008080; text-decoration-color: #008080; font-weight: bold\">622</span>, <span style=\"color: #008080; text-decoration-color: #008080; font-weight: bold\">650</span><span style=\"font-weight: bold\">]</span>\n",
       "</pre>\n"
      ],
      "text/plain": [
       "Available timesteps: \u001b[1m[\u001b[0m\u001b[1;36m0\u001b[0m, \u001b[1;36m28\u001b[0m, \u001b[1;36m57\u001b[0m, \u001b[1;36m85\u001b[0m, \u001b[1;36m113\u001b[0m, \u001b[1;36m141\u001b[0m, \u001b[1;36m170\u001b[0m, \u001b[1;36m198\u001b[0m, \u001b[1;36m226\u001b[0m, \u001b[1;36m254\u001b[0m, \u001b[1;36m283\u001b[0m, \u001b[1;36m311\u001b[0m, \u001b[1;36m339\u001b[0m, \u001b[1;36m368\u001b[0m, \u001b[1;36m396\u001b[0m, \u001b[1;36m424\u001b[0m, \u001b[1;36m452\u001b[0m, \u001b[1;36m481\u001b[0m, \u001b[1;36m509\u001b[0m, \n",
       "\u001b[1;36m537\u001b[0m, \u001b[1;36m566\u001b[0m, \u001b[1;36m594\u001b[0m, \u001b[1;36m622\u001b[0m, \u001b[1;36m650\u001b[0m\u001b[1m]\u001b[0m\n"
      ]
     },
     "metadata": {},
     "output_type": "display_data"
    },
    {
     "data": {
      "text/html": [
       "<pre style=\"white-space:pre;overflow-x:auto;line-height:normal;font-family:Menlo,'DejaVu Sans Mono',consolas,'Courier New',monospace\">Selected timestep: <span style=\"color: #008080; text-decoration-color: #008080; font-weight: bold\">85</span>\n",
       "</pre>\n"
      ],
      "text/plain": [
       "Selected timestep: \u001b[1;36m85\u001b[0m\n"
      ]
     },
     "metadata": {},
     "output_type": "display_data"
    },
    {
     "data": {
      "text/html": [
       "<pre style=\"white-space:pre;overflow-x:auto;line-height:normal;font-family:Menlo,'DejaVu Sans Mono',consolas,'Courier New',monospace\">Loaded velocity field dataset <span style=\"font-weight: bold\">(</span>timestep <span style=\"color: #008080; text-decoration-color: #008080; font-weight: bold\">85</span><span style=\"font-weight: bold\">)</span> from ..\\..\\data\\data.vts.<span style=\"color: #008080; text-decoration-color: #008080; font-weight: bold\">85</span>\n",
       "</pre>\n"
      ],
      "text/plain": [
       "Loaded velocity field dataset \u001b[1m(\u001b[0mtimestep \u001b[1;36m85\u001b[0m\u001b[1m)\u001b[0m from ..\\..\\data\\data.vts.\u001b[1;36m85\u001b[0m\n"
      ]
     },
     "metadata": {},
     "output_type": "display_data"
    },
    {
     "data": {
      "text/html": [
       "<pre style=\"white-space:pre;overflow-x:auto;line-height:normal;font-family:Menlo,'DejaVu Sans Mono',consolas,'Courier New',monospace\">Applied rotations: Y-axis: <span style=\"color: #008080; text-decoration-color: #008080; font-weight: bold\">-90</span>°, Z-axis: <span style=\"color: #008080; text-decoration-color: #008080; font-weight: bold\">-90</span>°\n",
       "</pre>\n"
      ],
      "text/plain": [
       "Applied rotations: Y-axis: \u001b[1;36m-90\u001b[0m°, Z-axis: \u001b[1;36m-90\u001b[0m°\n"
      ]
     },
     "metadata": {},
     "output_type": "display_data"
    },
    {
     "data": {
      "text/html": [
       "<pre style=\"white-space:pre;overflow-x:auto;line-height:normal;font-family:Menlo,'DejaVu Sans Mono',consolas,'Courier New',monospace\">Translated model: Y-axis: +<span style=\"color: #008080; text-decoration-color: #008080; font-weight: bold\">300</span> units\n",
       "</pre>\n"
      ],
      "text/plain": [
       "Translated model: Y-axis: +\u001b[1;36m300\u001b[0m units\n"
      ]
     },
     "metadata": {},
     "output_type": "display_data"
    },
    {
     "data": {
      "text/html": [
       "<pre style=\"white-space:pre;overflow-x:auto;line-height:normal;font-family:Menlo,'DejaVu Sans Mono',consolas,'Courier New',monospace\">Mirrored biomodel in XY plane\n",
       "</pre>\n"
      ],
      "text/plain": [
       "Mirrored biomodel in XY plane\n"
      ]
     },
     "metadata": {},
     "output_type": "display_data"
    },
    {
     "data": {
      "text/html": [
       "<pre style=\"white-space:pre;overflow-x:auto;line-height:normal;font-family:Menlo,'DejaVu Sans Mono',consolas,'Courier New',monospace\">Loaded anatomical biomodel from ..\\..\\assets\\biomodel.vtk\n",
       "</pre>\n"
      ],
      "text/plain": [
       "Loaded anatomical biomodel from ..\\..\\assets\\biomodel.vtk\n"
      ]
     },
     "metadata": {},
     "output_type": "display_data"
    },
    {
     "data": {
      "text/html": [
       "<pre style=\"white-space:pre;overflow-x:auto;line-height:normal;font-family:Menlo,'DejaVu Sans Mono',consolas,'Courier New',monospace\">Biomodel contains <span style=\"color: #008080; text-decoration-color: #008080; font-weight: bold\">5174</span> points and <span style=\"color: #008080; text-decoration-color: #008080; font-weight: bold\">10344</span> cells\n",
       "</pre>\n"
      ],
      "text/plain": [
       "Biomodel contains \u001b[1;36m5174\u001b[0m points and \u001b[1;36m10344\u001b[0m cells\n"
      ]
     },
     "metadata": {},
     "output_type": "display_data"
    },
    {
     "data": {
      "text/html": [
       "<pre style=\"white-space:pre;overflow-x:auto;line-height:normal;font-family:Menlo,'DejaVu Sans Mono',consolas,'Courier New',monospace\">Velocity field dimensions: <span style=\"font-weight: bold\">(</span><span style=\"color: #008080; text-decoration-color: #008080; font-weight: bold\">128</span>, <span style=\"color: #008080; text-decoration-color: #008080; font-weight: bold\">128</span>, <span style=\"color: #008080; text-decoration-color: #008080; font-weight: bold\">40</span><span style=\"font-weight: bold\">)</span>\n",
       "</pre>\n"
      ],
      "text/plain": [
       "Velocity field dimensions: \u001b[1m(\u001b[0m\u001b[1;36m128\u001b[0m, \u001b[1;36m128\u001b[0m, \u001b[1;36m40\u001b[0m\u001b[1m)\u001b[0m\n"
      ]
     },
     "metadata": {},
     "output_type": "display_data"
    }
   ],
   "source": [
    "# Parameters\n",
    "data_dir = Path(\"../../data\")\n",
    "timestep = 85  # Default timestep (systole phase)\n",
    "biomodel_path = Path(\"../../assets/biomodel.vtk\")\n",
    "\n",
    "# List available timesteps\n",
    "available_files = [f for f in os.listdir(data_dir) if f.startswith(\"data.vts.\")]\n",
    "available_timesteps = [int(f.split(\".\")[-1]) for f in available_files]\n",
    "available_timesteps.sort()\n",
    "\n",
    "print(f\"Available timesteps: {available_timesteps}\")\n",
    "print(f\"Selected timestep: {timestep}\")\n",
    "\n",
    "# Construct the full filepath for the selected timestep data\n",
    "filename = f\"data.vts.{timestep}\"\n",
    "filepath = data_dir / filename\n",
    "\n",
    "# Validate that the requested timestep file exists\n",
    "if not filepath.exists():\n",
    "    print(f\"[bold]Error:[/bold] File {filepath} not found.\")\n",
    "    print(f\"Please select from available timesteps: {available_timesteps}\")\n",
    "else:\n",
    "    # Load the VTS dataset for the selected timestep\n",
    "    dataset = pv.read(str(filepath), force_ext=\".vts\")\n",
    "    print(f\"Loaded velocity field dataset (timestep {timestep}) from {filepath}\")\n",
    "\n",
    "    # Load the biomodel data\n",
    "    biomodel_data = visualization.load_biomodel(biomodel_path)\n",
    "    print(f\"Loaded anatomical biomodel from {biomodel_path}\")\n",
    "    print(\n",
    "        f\"Biomodel contains {biomodel_data.n_points} points and {biomodel_data.n_cells} cells\"\n",
    "    )\n",
    "    print(f\"Velocity field dimensions: {dataset.dimensions}\")"
   ]
  },
  {
   "cell_type": "markdown",
   "id": "5a099174",
   "metadata": {},
   "source": [
    "## Masking\n",
    "\n",
    "Intersección entre el campo de velocidades y la geometría aórtica. De esta forma se eliminan todos los valores de velocidad fuera de la región aórtica. También se calculan estadísticas generales:\n",
    "\n",
    "- Velocidad media [cm/s]\n",
    "- Velocidad máxima [cm/s]"
   ]
  },
  {
   "cell_type": "code",
   "execution_count": 3,
   "id": "1b141715",
   "metadata": {},
   "outputs": [
    {
     "data": {
      "text/html": [
       "<pre style=\"white-space:pre;overflow-x:auto;line-height:normal;font-family:Menlo,'DejaVu Sans Mono',consolas,'Courier New',monospace\">Velocity Statistics:\n",
       "</pre>\n"
      ],
      "text/plain": [
       "Velocity Statistics:\n"
      ]
     },
     "metadata": {},
     "output_type": "display_data"
    },
    {
     "data": {
      "text/html": [
       "<pre style=\"white-space:pre;overflow-x:auto;line-height:normal;font-family:Menlo,'DejaVu Sans Mono',consolas,'Courier New',monospace\">Mean Velocity: <span style=\"color: #008080; text-decoration-color: #008080; font-weight: bold\">29.15</span> cm/s\n",
       "</pre>\n"
      ],
      "text/plain": [
       "Mean Velocity: \u001b[1;36m29.15\u001b[0m cm/s\n"
      ]
     },
     "metadata": {},
     "output_type": "display_data"
    },
    {
     "data": {
      "text/html": [
       "<pre style=\"white-space:pre;overflow-x:auto;line-height:normal;font-family:Menlo,'DejaVu Sans Mono',consolas,'Courier New',monospace\">Peak Velocity: <span style=\"color: #008080; text-decoration-color: #008080; font-weight: bold\">195.32</span> cm/s\n",
       "</pre>\n"
      ],
      "text/plain": [
       "Peak Velocity: \u001b[1;36m195.32\u001b[0m cm/s\n"
      ]
     },
     "metadata": {},
     "output_type": "display_data"
    }
   ],
   "source": [
    "# Load data files\n",
    "try:\n",
    "    # Extract aorta region from dataset\n",
    "    aorta = visualization.extract_aorta(dataset, biomodel_data)\n",
    "\n",
    "    # Calculate and display velocity statistics for the current timestep\n",
    "    velocity_stats = visualization.calculate_velocity_statistics(aorta)\n",
    "\n",
    "    # Display velocity statistics using standard prints instead of rich table\n",
    "    print(\"Velocity Statistics:\")\n",
    "    print(f\"Mean Velocity: {velocity_stats['mean']:.2f} cm/s\")\n",
    "    print(f\"Peak Velocity: {velocity_stats['peak']:.2f} cm/s\")\n",
    "\n",
    "except Exception as e:\n",
    "    print(f\"Error loading data: {e}\")"
   ]
  },
  {
   "cell_type": "markdown",
   "id": "87148895",
   "metadata": {},
   "source": [
    "## Velocity Analysis\n",
    "\n",
    "Visualización del campo de velocidades del paciente e instante de tiempo seleccionado.\n",
    "\n",
    "Los valores representan la magnitud del vector velocidad.\n",
    "\n",
    "$$\n",
    "V = \\sqrt{\\vec{u}^2 + \\vec{v}^2 + \\vec{w}^2}\n",
    "$$\n",
    "\n",
    "También se ha limitado el rango de valores [0,150] cm/s.\n",
    "\n",
    "Queda pendiente modificar el sistema de coordenadas para visualizar la aorta en posición vertical"
   ]
  },
  {
   "cell_type": "code",
   "execution_count": null,
   "id": "ff6ef1c4",
   "metadata": {},
   "outputs": [],
   "source": [
    "# Initialize the PyVista plotter for 3D visualization\n",
    "velocity_plotter = pv.Plotter(notebook=True)\n",
    "\n",
    "volume = visualization.render_volume(aorta)  # Create volume representation of the aorta\n",
    "\n",
    "# Add biomodel as a wireframe to provide anatomical context\n",
    "velocity_plotter.add_mesh(\n",
    "    biomodel_data,\n",
    "    color=\"white\",\n",
    "    opacity=0.8,\n",
    "    label=\"Biomodel\",\n",
    "    show_edges=True,\n",
    "    edge_color=\"black\",\n",
    "    style=\"wireframe\",\n",
    ")\n",
    "\n",
    "# Add volume rendering of velocity magnitude\n",
    "volume_plot = velocity_plotter.add_volume(\n",
    "    volume,\n",
    "    scalars=\"VelocityMagnitude\",\n",
    "    clim=[0, 150],\n",
    "    opacity=\"linear\",\n",
    "    scalar_bar_args=dict(\n",
    "        title=\"Velocity [cm/s]\",\n",
    "        n_labels=6,\n",
    "        vertical=True,\n",
    "    ),\n",
    "    mapper=\"smart\",  # Smart volume mapper for better rendering\n",
    "    cmap=\"rainbow\",  # Color map for velocity visualization\n",
    "    blending=\"composite\",  # Composite blending mode for volume rendering\n",
    ")\n",
    "\n",
    "# Configure camera and grid for optimal viewing\n",
    "velocity_plotter.view_isometric()  # Set isometric view\n",
    "velocity_plotter.show_grid(font_size=12)\n",
    "velocity_plotter.add_axes()\n",
    "\n",
    "# Render the scene\n",
    "velocity_plotter.show()"
   ]
  },
  {
   "cell_type": "markdown",
   "id": "ebf28327",
   "metadata": {},
   "source": [
    "### Líneas de flujo"
   ]
  },
  {
   "cell_type": "code",
   "execution_count": 5,
   "id": "28f81484",
   "metadata": {},
   "outputs": [
    {
     "data": {
      "text/html": [
       "<pre style=\"white-space:pre;overflow-x:auto;line-height:normal;font-family:Menlo,'DejaVu Sans Mono',consolas,'Courier New',monospace\">Generating streamlines from velocity field\n",
       "</pre>\n"
      ],
      "text/plain": [
       "Generating streamlines from velocity field\n"
      ]
     },
     "metadata": {},
     "output_type": "display_data"
    },
    {
     "data": {
      "application/vnd.jupyter.widget-view+json": {
       "model_id": "9ae6d33914994273a2b4ee43f1aeadd3",
       "version_major": 2,
       "version_minor": 0
      },
      "text/plain": [
       "Widget(value='<iframe src=\"http://localhost:62563/index.html?ui=P_0x1da7831b980_1&reconnect=auto\" class=\"pyvis…"
      ]
     },
     "metadata": {},
     "output_type": "display_data"
    }
   ],
   "source": [
    "# Initialize the PyVista plotter for 3D visualization\n",
    "streamlines_plotter = pv.Plotter(notebook=True)\n",
    "\n",
    "# Define center point for streamline generation (coordinates in the dataset space)\n",
    "center = [130, 260, 40]\n",
    "streamlines, source = visualization.generate_streamlines(aorta, center)\n",
    "\n",
    "# Add biomodel as a wireframe to provide anatomical context\n",
    "streamlines_plotter.add_mesh(\n",
    "    biomodel_data,\n",
    "    color=\"white\",\n",
    "    opacity=0.8,\n",
    "    label=\"Biomodel\",\n",
    "    show_edges=True,\n",
    "    edge_color=\"black\",\n",
    "    style=\"wireframe\",\n",
    ")\n",
    "\n",
    "# Add streamlines visualization colored by velocity magnitude\n",
    "streamlines_actor = streamlines_plotter.add_mesh(\n",
    "    streamlines,\n",
    "    line_width=2.0,\n",
    "    label=\"Streamlines\",\n",
    "    scalars=\"VelocityMagnitude\",  # Use velocity magnitude for coloring\n",
    "    cmap=\"rainbow\",  # Use rainbow colormap\n",
    "    clim=[0, 150],  # Consistent with volume visualization\n",
    "    scalar_bar_args=dict(\n",
    "        title=\"Velocity [cm/s]\",\n",
    "        n_labels=6,\n",
    "        vertical=True,\n",
    "    ),\n",
    ")\n",
    "\n",
    "# Add visualization of streamline seed points\n",
    "source_actor = streamlines_plotter.add_mesh(\n",
    "    source,\n",
    "    color=\"yellow\",\n",
    "    point_size=8,\n",
    "    render_points_as_spheres=True,\n",
    "    label=\"Seed Points\",\n",
    ")\n",
    "\n",
    "# Configure camera and grid for optimal viewing\n",
    "streamlines_plotter.view_isometric()  # Set isometric view\n",
    "streamlines_plotter.show_grid(font_size=12)\n",
    "streamlines_plotter.add_axes()\n",
    "\n",
    "streamlines_plotter.show()"
   ]
  }
 ],
 "metadata": {
  "kernelspec": {
   "display_name": ".venv",
   "language": "python",
   "name": "python3"
  },
  "language_info": {
   "codemirror_mode": {
    "name": "ipython",
    "version": 3
   },
   "file_extension": ".py",
   "mimetype": "text/x-python",
   "name": "python",
   "nbconvert_exporter": "python",
   "pygments_lexer": "ipython3",
   "version": "3.12.10"
  }
 },
 "nbformat": 4,
 "nbformat_minor": 5
}
